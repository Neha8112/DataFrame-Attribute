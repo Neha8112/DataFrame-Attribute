{
  "nbformat": 4,
  "nbformat_minor": 0,
  "metadata": {
    "colab": {
      "provenance": [],
      "authorship_tag": "ABX9TyM4w46YI+W5DRYww3AyIB8u",
      "include_colab_link": true
    },
    "kernelspec": {
      "name": "python3",
      "display_name": "Python 3"
    },
    "language_info": {
      "name": "python"
    }
  },
  "cells": [
    {
      "cell_type": "markdown",
      "metadata": {
        "id": "view-in-github",
        "colab_type": "text"
      },
      "source": [
        "<a href=\"https://colab.research.google.com/github/Neha8112/DataFrame-Attribute/blob/main/Untitled2.ipynb\" target=\"_parent\"><img src=\"https://colab.research.google.com/assets/colab-badge.svg\" alt=\"Open In Colab\"/></a>"
      ]
    },
    {
      "cell_type": "code",
      "execution_count": 4,
      "metadata": {
        "colab": {
          "base_uri": "https://localhost:8080/",
          "height": 73
        },
        "id": "WqqhJ7-fxRvm",
        "outputId": "186d94ad-17bb-4784-8914-015c075146ab"
      },
      "outputs": [
        {
          "output_type": "display_data",
          "data": {
            "text/plain": [
              "<IPython.core.display.HTML object>"
            ],
            "text/html": [
              "\n",
              "     <input type=\"file\" id=\"files-08d68e87-40b7-4b51-805e-bab2fe3eb19f\" name=\"files[]\" multiple disabled\n",
              "        style=\"border:none\" />\n",
              "     <output id=\"result-08d68e87-40b7-4b51-805e-bab2fe3eb19f\">\n",
              "      Upload widget is only available when the cell has been executed in the\n",
              "      current browser session. Please rerun this cell to enable.\n",
              "      </output>\n",
              "      <script>// Copyright 2017 Google LLC\n",
              "//\n",
              "// Licensed under the Apache License, Version 2.0 (the \"License\");\n",
              "// you may not use this file except in compliance with the License.\n",
              "// You may obtain a copy of the License at\n",
              "//\n",
              "//      http://www.apache.org/licenses/LICENSE-2.0\n",
              "//\n",
              "// Unless required by applicable law or agreed to in writing, software\n",
              "// distributed under the License is distributed on an \"AS IS\" BASIS,\n",
              "// WITHOUT WARRANTIES OR CONDITIONS OF ANY KIND, either express or implied.\n",
              "// See the License for the specific language governing permissions and\n",
              "// limitations under the License.\n",
              "\n",
              "/**\n",
              " * @fileoverview Helpers for google.colab Python module.\n",
              " */\n",
              "(function(scope) {\n",
              "function span(text, styleAttributes = {}) {\n",
              "  const element = document.createElement('span');\n",
              "  element.textContent = text;\n",
              "  for (const key of Object.keys(styleAttributes)) {\n",
              "    element.style[key] = styleAttributes[key];\n",
              "  }\n",
              "  return element;\n",
              "}\n",
              "\n",
              "// Max number of bytes which will be uploaded at a time.\n",
              "const MAX_PAYLOAD_SIZE = 100 * 1024;\n",
              "\n",
              "function _uploadFiles(inputId, outputId) {\n",
              "  const steps = uploadFilesStep(inputId, outputId);\n",
              "  const outputElement = document.getElementById(outputId);\n",
              "  // Cache steps on the outputElement to make it available for the next call\n",
              "  // to uploadFilesContinue from Python.\n",
              "  outputElement.steps = steps;\n",
              "\n",
              "  return _uploadFilesContinue(outputId);\n",
              "}\n",
              "\n",
              "// This is roughly an async generator (not supported in the browser yet),\n",
              "// where there are multiple asynchronous steps and the Python side is going\n",
              "// to poll for completion of each step.\n",
              "// This uses a Promise to block the python side on completion of each step,\n",
              "// then passes the result of the previous step as the input to the next step.\n",
              "function _uploadFilesContinue(outputId) {\n",
              "  const outputElement = document.getElementById(outputId);\n",
              "  const steps = outputElement.steps;\n",
              "\n",
              "  const next = steps.next(outputElement.lastPromiseValue);\n",
              "  return Promise.resolve(next.value.promise).then((value) => {\n",
              "    // Cache the last promise value to make it available to the next\n",
              "    // step of the generator.\n",
              "    outputElement.lastPromiseValue = value;\n",
              "    return next.value.response;\n",
              "  });\n",
              "}\n",
              "\n",
              "/**\n",
              " * Generator function which is called between each async step of the upload\n",
              " * process.\n",
              " * @param {string} inputId Element ID of the input file picker element.\n",
              " * @param {string} outputId Element ID of the output display.\n",
              " * @return {!Iterable<!Object>} Iterable of next steps.\n",
              " */\n",
              "function* uploadFilesStep(inputId, outputId) {\n",
              "  const inputElement = document.getElementById(inputId);\n",
              "  inputElement.disabled = false;\n",
              "\n",
              "  const outputElement = document.getElementById(outputId);\n",
              "  outputElement.innerHTML = '';\n",
              "\n",
              "  const pickedPromise = new Promise((resolve) => {\n",
              "    inputElement.addEventListener('change', (e) => {\n",
              "      resolve(e.target.files);\n",
              "    });\n",
              "  });\n",
              "\n",
              "  const cancel = document.createElement('button');\n",
              "  inputElement.parentElement.appendChild(cancel);\n",
              "  cancel.textContent = 'Cancel upload';\n",
              "  const cancelPromise = new Promise((resolve) => {\n",
              "    cancel.onclick = () => {\n",
              "      resolve(null);\n",
              "    };\n",
              "  });\n",
              "\n",
              "  // Wait for the user to pick the files.\n",
              "  const files = yield {\n",
              "    promise: Promise.race([pickedPromise, cancelPromise]),\n",
              "    response: {\n",
              "      action: 'starting',\n",
              "    }\n",
              "  };\n",
              "\n",
              "  cancel.remove();\n",
              "\n",
              "  // Disable the input element since further picks are not allowed.\n",
              "  inputElement.disabled = true;\n",
              "\n",
              "  if (!files) {\n",
              "    return {\n",
              "      response: {\n",
              "        action: 'complete',\n",
              "      }\n",
              "    };\n",
              "  }\n",
              "\n",
              "  for (const file of files) {\n",
              "    const li = document.createElement('li');\n",
              "    li.append(span(file.name, {fontWeight: 'bold'}));\n",
              "    li.append(span(\n",
              "        `(${file.type || 'n/a'}) - ${file.size} bytes, ` +\n",
              "        `last modified: ${\n",
              "            file.lastModifiedDate ? file.lastModifiedDate.toLocaleDateString() :\n",
              "                                    'n/a'} - `));\n",
              "    const percent = span('0% done');\n",
              "    li.appendChild(percent);\n",
              "\n",
              "    outputElement.appendChild(li);\n",
              "\n",
              "    const fileDataPromise = new Promise((resolve) => {\n",
              "      const reader = new FileReader();\n",
              "      reader.onload = (e) => {\n",
              "        resolve(e.target.result);\n",
              "      };\n",
              "      reader.readAsArrayBuffer(file);\n",
              "    });\n",
              "    // Wait for the data to be ready.\n",
              "    let fileData = yield {\n",
              "      promise: fileDataPromise,\n",
              "      response: {\n",
              "        action: 'continue',\n",
              "      }\n",
              "    };\n",
              "\n",
              "    // Use a chunked sending to avoid message size limits. See b/62115660.\n",
              "    let position = 0;\n",
              "    do {\n",
              "      const length = Math.min(fileData.byteLength - position, MAX_PAYLOAD_SIZE);\n",
              "      const chunk = new Uint8Array(fileData, position, length);\n",
              "      position += length;\n",
              "\n",
              "      const base64 = btoa(String.fromCharCode.apply(null, chunk));\n",
              "      yield {\n",
              "        response: {\n",
              "          action: 'append',\n",
              "          file: file.name,\n",
              "          data: base64,\n",
              "        },\n",
              "      };\n",
              "\n",
              "      let percentDone = fileData.byteLength === 0 ?\n",
              "          100 :\n",
              "          Math.round((position / fileData.byteLength) * 100);\n",
              "      percent.textContent = `${percentDone}% done`;\n",
              "\n",
              "    } while (position < fileData.byteLength);\n",
              "  }\n",
              "\n",
              "  // All done.\n",
              "  yield {\n",
              "    response: {\n",
              "      action: 'complete',\n",
              "    }\n",
              "  };\n",
              "}\n",
              "\n",
              "scope.google = scope.google || {};\n",
              "scope.google.colab = scope.google.colab || {};\n",
              "scope.google.colab._files = {\n",
              "  _uploadFiles,\n",
              "  _uploadFilesContinue,\n",
              "};\n",
              "})(self);\n",
              "</script> "
            ]
          },
          "metadata": {}
        },
        {
          "output_type": "stream",
          "name": "stdout",
          "text": [
            "Saving Bangalore.csv to Bangalore.csv\n"
          ]
        }
      ],
      "source": [
        "from google.colab import files\n",
        "uploaded=files.upload()"
      ]
    },
    {
      "cell_type": "markdown",
      "source": [
        "PANDAS-- . Length of DataFrame"
      ],
      "metadata": {
        "id": "dTkzfEry9XC7"
      }
    },
    {
      "cell_type": "markdown",
      "source": [
        "-- Checking total number of rows/length from the DataFrame"
      ],
      "metadata": {
        "id": "nXv-0UJX_cpe"
      }
    },
    {
      "cell_type": "code",
      "source": [
        "import pandas as pd\n",
        "df=pd.read_csv(\"Bangalore.csv\")\n",
        "print(len(df))"
      ],
      "metadata": {
        "colab": {
          "base_uri": "https://localhost:8080/"
        },
        "id": "lg3GNlMx4aLW",
        "outputId": "218e9f8a-33fb-45c0-f0a6-401070b94e55"
      },
      "execution_count": 7,
      "outputs": [
        {
          "output_type": "stream",
          "name": "stdout",
          "text": [
            "500\n"
          ]
        }
      ]
    },
    {
      "cell_type": "markdown",
      "source": [
        "columns Attribute"
      ],
      "metadata": {
        "id": "xnx-aME89xaX"
      }
    },
    {
      "cell_type": "markdown",
      "source": [
        "-- This attribute returns all column names from the DataFrame"
      ],
      "metadata": {
        "id": "93Gykj4y_qVH"
      }
    },
    {
      "cell_type": "code",
      "source": [
        "import pandas as pd\n",
        "df=pd.read_csv(\"Bangalore.csv\")\n",
        "print(df.columns)"
      ],
      "metadata": {
        "colab": {
          "base_uri": "https://localhost:8080/"
        },
        "id": "6Y7PfpSq4u_E",
        "outputId": "2fe08a21-0548-4fd4-df1d-2335c84f9fd0"
      },
      "execution_count": 10,
      "outputs": [
        {
          "output_type": "stream",
          "name": "stdout",
          "text": [
            "Index(['Date', 'Time', 'Booking ID', 'Booking Status', 'Customer ID',\n",
            "       'Vehicle Type', 'Pickup Location', 'Drop Location', 'Avg VTAT',\n",
            "       'Avg CTAT', 'Cancelled Rides by Customer',\n",
            "       'Reason for cancelling by Customer', 'Cancelled Rides by Driver',\n",
            "       'Reason for cancelling by Driver', 'Incomplete Rides',\n",
            "       'Incomplete Rides Reason', 'Booking Value', 'Ride Distance',\n",
            "       'Driver Ratings', 'Customer Rating'],\n",
            "      dtype='object')\n"
          ]
        }
      ]
    },
    {
      "cell_type": "markdown",
      "source": [
        "SHAPE Attribute"
      ],
      "metadata": {
        "id": "1-bUREax97Ww"
      }
    },
    {
      "cell_type": "markdown",
      "source": [
        "-- This attribute returns the total number of rows and columns in tuple\n",
        "format."
      ],
      "metadata": {
        "id": "04HiQulbAtEr"
      }
    },
    {
      "cell_type": "code",
      "source": [
        "import pandas as pd\n",
        "df= pd.read_csv(\"Bangalore.csv\")\n",
        "\n",
        "print(df.shape)"
      ],
      "metadata": {
        "colab": {
          "base_uri": "https://localhost:8080/"
        },
        "id": "352ZjnM72XbF",
        "outputId": "4dc1275c-68ce-49fa-c125-440bfd756d81"
      },
      "execution_count": 6,
      "outputs": [
        {
          "output_type": "stream",
          "name": "stdout",
          "text": [
            "(500, 20)\n"
          ]
        }
      ]
    },
    {
      "cell_type": "markdown",
      "source": [
        "shape[0] Attribute"
      ],
      "metadata": {
        "id": "bzgViv4o-B_I"
      }
    },
    {
      "cell_type": "markdown",
      "source": [
        "-- Shape[0] returns total number for rows from the DataFrame\n",
        "\n",
        "-- Shape[1] returns total number for columns from the DataFrame"
      ],
      "metadata": {
        "id": "BV63j71CA3kb"
      }
    },
    {
      "cell_type": "code",
      "source": [
        "import pandas as pd\n",
        "df=pd.read_csv(\"Bangalore.csv\")\n",
        "print(df.shape[0])\n",
        "print(df.shape[1])\n",
        "print(df.shape[0:2])"
      ],
      "metadata": {
        "colab": {
          "base_uri": "https://localhost:8080/"
        },
        "id": "7MR_GLZw5KYk",
        "outputId": "5fd00916-3f95-45cb-b949-066a1dcf3725"
      },
      "execution_count": 19,
      "outputs": [
        {
          "output_type": "stream",
          "name": "stdout",
          "text": [
            "500\n",
            "20\n",
            "(500, 20)\n"
          ]
        }
      ]
    },
    {
      "cell_type": "markdown",
      "source": [
        "Shape[1] Attribute"
      ],
      "metadata": {
        "id": "1M_82CLU-GK_"
      }
    },
    {
      "cell_type": "markdown",
      "source": [
        "-- This attribute returns the total number of elements/values in DataFrame\n",
        "\n",
        "-- Rows * Columns"
      ],
      "metadata": {
        "id": "vwxjrOJvBKTl"
      }
    },
    {
      "cell_type": "code",
      "source": [
        "import pandas as pd\n",
        "df=pd.read_csv(\"Bangalore.csv\")\n",
        "print(df.size)\n",
        "print(df.shape[0]*df.shape[1])"
      ],
      "metadata": {
        "colab": {
          "base_uri": "https://localhost:8080/"
        },
        "id": "uudPOljO6J5s",
        "outputId": "47ac7235-c2c9-4d2b-a3d2-2541ade2b5df"
      },
      "execution_count": 21,
      "outputs": [
        {
          "output_type": "stream",
          "name": "stdout",
          "text": [
            "10000\n",
            "10000\n"
          ]
        }
      ]
    },
    {
      "cell_type": "markdown",
      "source": [
        "dtypes Attribute"
      ],
      "metadata": {
        "id": "I6m-uwqL-KcR"
      }
    },
    {
      "cell_type": "markdown",
      "source": [
        "-- This attribute returns the datatype of each column."
      ],
      "metadata": {
        "id": "NqsQucTXB0Va"
      }
    },
    {
      "cell_type": "code",
      "source": [
        "import pandas as pd\n",
        "df=pd.read_csv(\"Bangalore.csv\")\n",
        "print(df.dtypes)"
      ],
      "metadata": {
        "colab": {
          "base_uri": "https://localhost:8080/"
        },
        "id": "__BDIjqw6tBd",
        "outputId": "9ad19e5a-7092-439d-a858-dfc45773a89f"
      },
      "execution_count": 22,
      "outputs": [
        {
          "output_type": "stream",
          "name": "stdout",
          "text": [
            "Date                                  object\n",
            "Time                                  object\n",
            "Booking ID                            object\n",
            "Booking Status                        object\n",
            "Customer ID                           object\n",
            "Vehicle Type                          object\n",
            "Pickup Location                       object\n",
            "Drop Location                         object\n",
            "Avg VTAT                             float64\n",
            "Avg CTAT                             float64\n",
            "Cancelled Rides by Customer            int64\n",
            "Reason for cancelling by Customer     object\n",
            "Cancelled Rides by Driver              int64\n",
            "Reason for cancelling by Driver       object\n",
            "Incomplete Rides                       int64\n",
            "Incomplete Rides Reason               object\n",
            "Booking Value                        float64\n",
            "Ride Distance                        float64\n",
            "Driver Ratings                       float64\n",
            "Customer Rating                      float64\n",
            "dtype: object\n"
          ]
        }
      ]
    },
    {
      "cell_type": "markdown",
      "source": [
        "-- This attribute check DataFrame is empty or not,\n",
        "      * If DataFrame is empty then it returns True other False."
      ],
      "metadata": {
        "id": "sMO2DDtFCEQ5"
      }
    },
    {
      "cell_type": "markdown",
      "source": [
        "empty Attribute"
      ],
      "metadata": {
        "id": "kTznqf4h-P5c"
      }
    },
    {
      "cell_type": "code",
      "source": [
        "import pandas as pd\n",
        "df=pd.read_csv(\"Bangalore.csv\")\n",
        "print(df.empty)"
      ],
      "metadata": {
        "colab": {
          "base_uri": "https://localhost:8080/"
        },
        "id": "Kx7OBunR7kOu",
        "outputId": "848ea502-a208-416a-df42-603c8a164fcb"
      },
      "execution_count": 24,
      "outputs": [
        {
          "output_type": "stream",
          "name": "stdout",
          "text": [
            "False\n"
          ]
        }
      ]
    },
    {
      "cell_type": "markdown",
      "source": [
        "index Attribute"
      ],
      "metadata": {
        "id": "jZ5RLXWb-Th7"
      }
    },
    {
      "cell_type": "markdown",
      "source": [
        "-- This attribute return index start and end value from the DataFrame."
      ],
      "metadata": {
        "id": "Z8lDAmIQCTQh"
      }
    },
    {
      "cell_type": "code",
      "source": [
        "import pandas as pd\n",
        "df=pd.read_csv(\"Bangalore.csv\")\n",
        "print(df.index)"
      ],
      "metadata": {
        "colab": {
          "base_uri": "https://localhost:8080/"
        },
        "id": "w-730mq_78uK",
        "outputId": "27eff295-ae81-47a0-f971-535ad2090124"
      },
      "execution_count": 25,
      "outputs": [
        {
          "output_type": "stream",
          "name": "stdout",
          "text": [
            "RangeIndex(start=0, stop=500, step=1)\n"
          ]
        }
      ]
    },
    {
      "cell_type": "markdown",
      "source": [
        "values attribute"
      ],
      "metadata": {
        "id": "Eww5zaIy-XAf"
      }
    },
    {
      "cell_type": "markdown",
      "source": [
        "-- This attribute return values of DataFrame,\n",
        "      * Each row values in one array from starting to last row."
      ],
      "metadata": {
        "id": "2zAuy3niCqK3"
      }
    },
    {
      "cell_type": "code",
      "source": [
        "import pandas as pd\n",
        "df=pd.read_csv(\"Bangalore.csv\")\n",
        "print(df.values)"
      ],
      "metadata": {
        "colab": {
          "base_uri": "https://localhost:8080/"
        },
        "id": "7mD_c6qN8nmT",
        "outputId": "e58b86d1-f36b-4534-db32-08f90e712a0e"
      },
      "execution_count": 26,
      "outputs": [
        {
          "output_type": "stream",
          "name": "stdout",
          "text": [
            "[['2025-08-17' '14:41:19' 'BK10000' ... 2.11 4.8 3.5]\n",
            " ['2025-08-06' '03:49:22' 'BK10001' ... nan nan nan]\n",
            " ['2025-08-08' '07:54:54' 'BK10002' ... nan nan nan]\n",
            " ...\n",
            " ['2025-08-07' '06:20:13' 'BK10497' ... nan nan nan]\n",
            " ['2025-08-27' '00:31:21' 'BK10498' ... nan nan nan]\n",
            " ['2025-08-03' '01:00:15' 'BK10499' ... 25.13 4.7 4.7]]\n"
          ]
        }
      ]
    },
    {
      "cell_type": "markdown",
      "source": [
        "T Attribute"
      ],
      "metadata": {
        "id": "-lqlhFMg-Zk3"
      }
    },
    {
      "cell_type": "markdown",
      "source": [
        "-- T means its transpose, it returns rows as columns and columns as rows"
      ],
      "metadata": {
        "id": "qV8cs5bDC4pC"
      }
    },
    {
      "cell_type": "code",
      "source": [
        "import pandas as pd\n",
        "df=pd.read_csv(\"Bangalore.csv\")\n",
        "print(df.T)"
      ],
      "metadata": {
        "colab": {
          "base_uri": "https://localhost:8080/"
        },
        "id": "hW3gc3KU9B3V",
        "outputId": "db0d972c-4baf-4d78-87a0-4f1e2769b640"
      },
      "execution_count": 27,
      "outputs": [
        {
          "output_type": "stream",
          "name": "stdout",
          "text": [
            "                                           0                      1    \\\n",
            "Date                                2025-08-17             2025-08-06   \n",
            "Time                                  14:41:19               03:49:22   \n",
            "Booking ID                             BK10000                BK10001   \n",
            "Booking Status                         Success  Cancelled by Customer   \n",
            "Customer ID                           CUST8331               CUST4817   \n",
            "Vehicle Type                              Bike             Prime Plus   \n",
            "Pickup Location                         Hebbal          Wilson Garden   \n",
            "Drop Location                      Koramangala        Electronic City   \n",
            "Avg VTAT                                   9.8                    NaN   \n",
            "Avg CTAT                                   7.0                    NaN   \n",
            "Cancelled Rides by Customer                  0                      1   \n",
            "Reason for cancelling by Customer          NaN          Wrong Address   \n",
            "Cancelled Rides by Driver                    0                      0   \n",
            "Reason for cancelling by Driver            NaN                    NaN   \n",
            "Incomplete Rides                             0                      0   \n",
            "Incomplete Rides Reason                    NaN                    NaN   \n",
            "Booking Value                           997.73                    NaN   \n",
            "Ride Distance                             2.11                    NaN   \n",
            "Driver Ratings                             4.8                    NaN   \n",
            "Customer Rating                            3.5                    NaN   \n",
            "\n",
            "                                                     2              3    \\\n",
            "Date                                          2025-08-08     2025-08-27   \n",
            "Time                                            07:54:54       22:28:17   \n",
            "Booking ID                                       BK10002        BK10003   \n",
            "Booking Status                     Cancelled by Customer        Success   \n",
            "Customer ID                                     CUST3284       CUST2393   \n",
            "Vehicle Type                                  Prime Plus    Prime Sedan   \n",
            "Pickup Location                             Shivajinagar  Wilson Garden   \n",
            "Drop Location                                     Hebbal    Rajajinagar   \n",
            "Avg VTAT                                             NaN           10.4   \n",
            "Avg CTAT                                             NaN            9.0   \n",
            "Cancelled Rides by Customer                            1              0   \n",
            "Reason for cancelling by Customer          Wrong Address            NaN   \n",
            "Cancelled Rides by Driver                              0              0   \n",
            "Reason for cancelling by Driver                      NaN            NaN   \n",
            "Incomplete Rides                                       0              0   \n",
            "Incomplete Rides Reason                              NaN            NaN   \n",
            "Booking Value                                        NaN        1425.83   \n",
            "Ride Distance                                        NaN          12.36   \n",
            "Driver Ratings                                       NaN            4.9   \n",
            "Customer Rating                                      NaN            3.1   \n",
            "\n",
            "                                                 4    \\\n",
            "Date                                      2025-08-10   \n",
            "Time                                        08:03:05   \n",
            "Booking ID                                   BK10004   \n",
            "Booking Status                               Success   \n",
            "Customer ID                                 CUST9765   \n",
            "Vehicle Type                              Prime Plus   \n",
            "Pickup Location                             KR Puram   \n",
            "Drop Location                      Palace Guttahalli   \n",
            "Avg VTAT                                         2.2   \n",
            "Avg CTAT                                        17.2   \n",
            "Cancelled Rides by Customer                        0   \n",
            "Reason for cancelling by Customer                NaN   \n",
            "Cancelled Rides by Driver                          0   \n",
            "Reason for cancelling by Driver                  NaN   \n",
            "Incomplete Rides                                   0   \n",
            "Incomplete Rides Reason                          NaN   \n",
            "Booking Value                                  116.8   \n",
            "Ride Distance                                    4.7   \n",
            "Driver Ratings                                   3.4   \n",
            "Customer Rating                                  4.3   \n",
            "\n",
            "                                                                            5    \\\n",
            "Date                                                                 2025-08-10   \n",
            "Time                                                                   00:31:33   \n",
            "Booking ID                                                              BK10005   \n",
            "Booking Status                                            Cancelled by Customer   \n",
            "Customer ID                                                            CUST3719   \n",
            "Vehicle Type                                                          Prime SUV   \n",
            "Pickup Location                                                        RT Nagar   \n",
            "Drop Location                                                     Richmond Town   \n",
            "Avg VTAT                                                                    NaN   \n",
            "Avg CTAT                                                                    NaN   \n",
            "Cancelled Rides by Customer                                                   1   \n",
            "Reason for cancelling by Customer  Driver is not moving towards pickup location   \n",
            "Cancelled Rides by Driver                                                     0   \n",
            "Reason for cancelling by Driver                                             NaN   \n",
            "Incomplete Rides                                                              0   \n",
            "Incomplete Rides Reason                                                     NaN   \n",
            "Booking Value                                                               NaN   \n",
            "Ride Distance                                                               NaN   \n",
            "Driver Ratings                                                              NaN   \n",
            "Customer Rating                                                             NaN   \n",
            "\n",
            "                                                 6               7    \\\n",
            "Date                                      2025-08-05      2025-08-18   \n",
            "Time                                        11:08:45        03:27:24   \n",
            "Booking ID                                   BK10006         BK10007   \n",
            "Booking Status                               Success         Success   \n",
            "Customer ID                                 CUST7669        CUST1878   \n",
            "Vehicle Type                               Prime SUV     Prime Sedan   \n",
            "Pickup Location                    Palace Guttahalli     Koramangala   \n",
            "Drop Location                            Vijayanagar  Lingarajapuram   \n",
            "Avg VTAT                                         9.7            12.1   \n",
            "Avg CTAT                                        13.3             9.8   \n",
            "Cancelled Rides by Customer                        0               0   \n",
            "Reason for cancelling by Customer                NaN             NaN   \n",
            "Cancelled Rides by Driver                          0               0   \n",
            "Reason for cancelling by Driver                  NaN             NaN   \n",
            "Incomplete Rides                                   0               0   \n",
            "Incomplete Rides Reason                          NaN             NaN   \n",
            "Booking Value                                 719.55          336.11   \n",
            "Ride Distance                                   2.17           36.05   \n",
            "Driver Ratings                                   3.7             3.5   \n",
            "Customer Rating                                  4.6             3.1   \n",
            "\n",
            "                                          8              9    ...  \\\n",
            "Date                               2025-08-25     2025-08-26  ...   \n",
            "Time                                 05:52:24       12:46:39  ...   \n",
            "Booking ID                            BK10008        BK10009  ...   \n",
            "Booking Status                        Success        Success  ...   \n",
            "Customer ID                          CUST6876       CUST9671  ...   \n",
            "Vehicle Type                             Auto     Prime Plus  ...   \n",
            "Pickup Location                      Nagawara  Church Street  ...   \n",
            "Drop Location                       Bellandur       Nagawara  ...   \n",
            "Avg VTAT                                 13.3           14.1  ...   \n",
            "Avg CTAT                                 17.5           15.2  ...   \n",
            "Cancelled Rides by Customer                 0              0  ...   \n",
            "Reason for cancelling by Customer         NaN            NaN  ...   \n",
            "Cancelled Rides by Driver                   0              0  ...   \n",
            "Reason for cancelling by Driver           NaN            NaN  ...   \n",
            "Incomplete Rides                            0              0  ...   \n",
            "Incomplete Rides Reason                   NaN            NaN  ...   \n",
            "Booking Value                          1178.0         308.55  ...   \n",
            "Ride Distance                            21.8           6.69  ...   \n",
            "Driver Ratings                            4.1            4.6  ...   \n",
            "Customer Rating                           3.2            4.6  ...   \n",
            "\n",
            "                                                 490          491  \\\n",
            "Date                                      2025-08-26   2025-08-23   \n",
            "Time                                        13:02:36     11:42:23   \n",
            "Booking ID                                   BK10490      BK10491   \n",
            "Booking Status                               Success      Success   \n",
            "Customer ID                                 CUST2355     CUST6933   \n",
            "Vehicle Type                             Prime Sedan         Auto   \n",
            "Pickup Location                           Whitefield     Hosakote   \n",
            "Drop Location                      Bannerghatta Road  Vijayanagar   \n",
            "Avg VTAT                                         8.6         10.8   \n",
            "Avg CTAT                                        18.1         13.0   \n",
            "Cancelled Rides by Customer                        0            0   \n",
            "Reason for cancelling by Customer                NaN          NaN   \n",
            "Cancelled Rides by Driver                          0            0   \n",
            "Reason for cancelling by Driver                  NaN          NaN   \n",
            "Incomplete Rides                                   0            0   \n",
            "Incomplete Rides Reason                          NaN          NaN   \n",
            "Booking Value                                 712.24       794.33   \n",
            "Ride Distance                                  32.09         38.3   \n",
            "Driver Ratings                                   4.0          3.1   \n",
            "Customer Rating                                  3.3          3.5   \n",
            "\n",
            "                                                                            492  \\\n",
            "Date                                                                 2025-08-04   \n",
            "Time                                                                   10:29:35   \n",
            "Booking ID                                                              BK10492   \n",
            "Booking Status                                            Cancelled by Customer   \n",
            "Customer ID                                                            CUST9724   \n",
            "Vehicle Type                                                               Auto   \n",
            "Pickup Location                                                    Brigade Road   \n",
            "Drop Location                                                        HSR Layout   \n",
            "Avg VTAT                                                                    NaN   \n",
            "Avg CTAT                                                                    NaN   \n",
            "Cancelled Rides by Customer                                                   1   \n",
            "Reason for cancelling by Customer  Driver is not moving towards pickup location   \n",
            "Cancelled Rides by Driver                                                     0   \n",
            "Reason for cancelling by Driver                                             NaN   \n",
            "Incomplete Rides                                                              0   \n",
            "Incomplete Rides Reason                                                     NaN   \n",
            "Booking Value                                                               NaN   \n",
            "Ride Distance                                                               NaN   \n",
            "Driver Ratings                                                              NaN   \n",
            "Customer Rating                                                             NaN   \n",
            "\n",
            "                                                      493               494  \\\n",
            "Date                                           2025-08-23        2025-08-10   \n",
            "Time                                             01:18:19          01:38:11   \n",
            "Booking ID                                        BK10493           BK10494   \n",
            "Booking Status                        Cancelled by Driver           Success   \n",
            "Customer ID                                      CUST5758          CUST3902   \n",
            "Vehicle Type                                         Bike              Bike   \n",
            "Pickup Location                         Bannerghatta Road        HSR Layout   \n",
            "Drop Location                                    KR Puram  Race Course Road   \n",
            "Avg VTAT                                              NaN               2.5   \n",
            "Avg CTAT                                              NaN              18.4   \n",
            "Cancelled Rides by Customer                             0                 0   \n",
            "Reason for cancelling by Customer                     NaN               NaN   \n",
            "Cancelled Rides by Driver                               1                 0   \n",
            "Reason for cancelling by Driver    Customer related issue               NaN   \n",
            "Incomplete Rides                                        0                 0   \n",
            "Incomplete Rides Reason                               NaN               NaN   \n",
            "Booking Value                                         NaN           1426.94   \n",
            "Ride Distance                                         NaN             33.78   \n",
            "Driver Ratings                                        NaN               4.9   \n",
            "Customer Rating                                       NaN               5.0   \n",
            "\n",
            "                                              495                    496  \\\n",
            "Date                                   2025-08-06             2025-08-10   \n",
            "Time                                     07:37:29               11:21:25   \n",
            "Booking ID                                BK10495                BK10496   \n",
            "Booking Status                            Success  Cancelled by Customer   \n",
            "Customer ID                              CUST5527               CUST4408   \n",
            "Vehicle Type                                 Auto              Prime SUV   \n",
            "Pickup Location                    Sadashivanagar                 Domlur   \n",
            "Drop Location                          Whitefield             BTM Layout   \n",
            "Avg VTAT                                     11.7                    NaN   \n",
            "Avg CTAT                                     14.1                    NaN   \n",
            "Cancelled Rides by Customer                     0                      1   \n",
            "Reason for cancelling by Customer             NaN        Change of plans   \n",
            "Cancelled Rides by Driver                       0                      0   \n",
            "Reason for cancelling by Driver               NaN                    NaN   \n",
            "Incomplete Rides                                0                      0   \n",
            "Incomplete Rides Reason                       NaN                    NaN   \n",
            "Booking Value                              934.24                    NaN   \n",
            "Ride Distance                                6.06                    NaN   \n",
            "Driver Ratings                                3.5                    NaN   \n",
            "Customer Rating                               3.9                    NaN   \n",
            "\n",
            "                                                      497  \\\n",
            "Date                                           2025-08-07   \n",
            "Time                                             06:20:13   \n",
            "Booking ID                                        BK10497   \n",
            "Booking Status                      Cancelled by Customer   \n",
            "Customer ID                                      CUST7942   \n",
            "Vehicle Type                                   Prime Plus   \n",
            "Pickup Location                               Tumkur Road   \n",
            "Drop Location                                    Attibele   \n",
            "Avg VTAT                                              NaN   \n",
            "Avg CTAT                                              NaN   \n",
            "Cancelled Rides by Customer                             1   \n",
            "Reason for cancelling by Customer  Driver asked to cancel   \n",
            "Cancelled Rides by Driver                               0   \n",
            "Reason for cancelling by Driver                       NaN   \n",
            "Incomplete Rides                                        0   \n",
            "Incomplete Rides Reason                               NaN   \n",
            "Booking Value                                         NaN   \n",
            "Ride Distance                                         NaN   \n",
            "Driver Ratings                                        NaN   \n",
            "Customer Rating                                       NaN   \n",
            "\n",
            "                                                                   498  \\\n",
            "Date                                                        2025-08-27   \n",
            "Time                                                          00:31:21   \n",
            "Booking ID                                                     BK10498   \n",
            "Booking Status                                     Cancelled by Driver   \n",
            "Customer ID                                                   CUST9018   \n",
            "Vehicle Type                                                     eBike   \n",
            "Pickup Location                                            Chamarajpet   \n",
            "Drop Location                                              Vijayanagar   \n",
            "Avg VTAT                                                           NaN   \n",
            "Avg CTAT                                                           NaN   \n",
            "Cancelled Rides by Customer                                          0   \n",
            "Reason for cancelling by Customer                                  NaN   \n",
            "Cancelled Rides by Driver                                            1   \n",
            "Reason for cancelling by Driver    More than permitted people in there   \n",
            "Incomplete Rides                                                     0   \n",
            "Incomplete Rides Reason                                            NaN   \n",
            "Booking Value                                                      NaN   \n",
            "Ride Distance                                                      NaN   \n",
            "Driver Ratings                                                     NaN   \n",
            "Customer Rating                                                    NaN   \n",
            "\n",
            "                                             499  \n",
            "Date                                  2025-08-03  \n",
            "Time                                    01:00:15  \n",
            "Booking ID                               BK10499  \n",
            "Booking Status                           Success  \n",
            "Customer ID                             CUST1022  \n",
            "Vehicle Type                           Prime SUV  \n",
            "Pickup Location                    Sarjapur Road  \n",
            "Drop Location                       Shivajinagar  \n",
            "Avg VTAT                                     7.2  \n",
            "Avg CTAT                                    11.6  \n",
            "Cancelled Rides by Customer                    0  \n",
            "Reason for cancelling by Customer            NaN  \n",
            "Cancelled Rides by Driver                      0  \n",
            "Reason for cancelling by Driver              NaN  \n",
            "Incomplete Rides                               0  \n",
            "Incomplete Rides Reason                      NaN  \n",
            "Booking Value                            1601.86  \n",
            "Ride Distance                              25.13  \n",
            "Driver Ratings                               4.7  \n",
            "Customer Rating                              4.7  \n",
            "\n",
            "[20 rows x 500 columns]\n"
          ]
        }
      ]
    }
  ]
}